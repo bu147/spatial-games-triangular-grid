{
 "cells": [
  {
   "cell_type": "code",
   "execution_count": 1,
   "metadata": {},
   "outputs": [],
   "source": [
    "from Assemblies.game import GameField\n",
    "import numpy as np\n",
    "from numpy import random\n",
    "from sys import exit as sys_exit\n",
    "\n",
    "%matplotlib inline\n",
    "import matplotlib.pyplot as plt\n",
    "\n",
    "from __future__ import print_function\n",
    "from ipywidgets import interact, interactive, fixed, interact_manual, Layout, VBox\n",
    "import ipywidgets as widgets"
   ]
  },
  {
   "cell_type": "markdown",
   "metadata": {},
   "source": [
    "рассмтореть зверей, которые появились у меня\n",
    "\n",
    "рассмотреть, что происходит с конкретными фигурами в разных режимах"
   ]
  },
  {
   "cell_type": "code",
   "execution_count": 2,
   "metadata": {},
   "outputs": [],
   "source": [
    "b_points = np.array([1, 7/6, 6/5, 5/4, 4/3, 7/5, 3/2, 5/3, 7/4, 2, 7/3, 5/2]) + 0.01"
   ]
  },
  {
   "cell_type": "code",
   "execution_count": 3,
   "metadata": {},
   "outputs": [],
   "source": [
    "def show_field(field, point_size=10, scale=10):\n",
    "    plt.clf()\n",
    "    fig = plt.figure(figsize = (scale*1, scale*0.666))\n",
    "    point_size = scale / (len(field)**2) * 10000\n",
    "    \n",
    "    \n",
    "    y, x = (1-field).nonzero()\n",
    "    plt.scatter(x + y*np.sin(np.pi/6), y * np.sin(np.pi/3), s=point_size, marker='h')\n",
    "    y, x = field.nonzero()\n",
    "    plt.scatter(x + y*np.sin(np.pi/6), y * np.sin(np.pi/3), s=point_size, marker='h', c='r')\n",
    "    plt.show()"
   ]
  },
  {
   "cell_type": "code",
   "execution_count": 4,
   "metadata": {},
   "outputs": [],
   "source": [
    "def get_field(b):\n",
    "    show_field(fields[b].field, scale=20)"
   ]
  },
  {
   "cell_type": "code",
   "execution_count": 5,
   "metadata": {},
   "outputs": [],
   "source": [
    "#animal - массив номеров элементов зверя (количество строк - 2, количество столбцов = количество элементов)\n",
    "#по умолчанию зверь дефекторный\n",
    "def init(size, animal, defect=1):\n",
    "    fields = {b : GameField(size, b) for b in b_points}\n",
    "    \n",
    "    for b in b_points:\n",
    "        if defect==1:\n",
    "            fields[b].field = np.zeros((size, size), dtype=int)\n",
    "\n",
    "            if animal.shape[0]!=2:\n",
    "                sys_exit('неверная размерность матрицы')\n",
    "\n",
    "            quantity=len(animal[0])\n",
    "\n",
    "            if quantity>size**2:\n",
    "                sys_exit('количество элементов в звере превышает количество элементов на решётке')\n",
    "\n",
    "            if np.max(animal)>size-1:\n",
    "                sys_exit('горизонтальный и/или вертикальный размер зверя превышает размер решётки')\n",
    "\n",
    "            for i in range(quantity):\n",
    "                fields[b].field[animal[1][i]][animal[0][i]] = 1\n",
    "        else:\n",
    "            fields[b].field = np.ones((size, size), dtype=int)\n",
    "\n",
    "            if animal.shape[0]!=2:\n",
    "                sys_exit('неверная размерность матрицы')\n",
    "\n",
    "            quantity=len(animal[0])\n",
    "\n",
    "            if quantity>size**2:\n",
    "                sys_exit('количество элементов в звере превышает количество элементов на решётке')\n",
    "\n",
    "            if np.max(animal)>size-1:\n",
    "                sys_exit('горизонтальный и/или вертикальный размер зверя превышает размер решётки')\n",
    "\n",
    "            for i in range(quantity):\n",
    "                fields[b].field[animal[1][i]][animal[0][i]] = 0\n",
    "        \n",
    "    return fields"
   ]
  },
  {
   "cell_type": "markdown",
   "metadata": {},
   "source": [
    "## Initialization"
   ]
  },
  {
   "cell_type": "code",
   "execution_count": 6,
   "metadata": {},
   "outputs": [],
   "source": [
    "#Init\n",
    "size_int = widgets.BoundedIntText(\n",
    "    value=3,\n",
    "    min=3,\n",
    "    max=1000,\n",
    "    step=3,\n",
    "    description='Size:',\n",
    "    disabled=False\n",
    ")\n",
    "init_btn = widgets.ToggleButton(\n",
    "    value=False,\n",
    "    description='Init',\n",
    "    disabled=False,\n",
    "    button_style=''\n",
    ")\n",
    "def on_init_btn(current):\n",
    "    global fields\n",
    "    fields = init(size_int.value,draw_animal,defect)\n",
    "    \n",
    "    \n",
    "#Slider   \n",
    "b_sldr = widgets.Dropdown(options=b_points, description='b:', continuous_update=False)\n",
    "\n",
    "\n",
    "#Steps\n",
    "step_count_int = widgets.BoundedIntText(\n",
    "    value=1,\n",
    "    min=1,\n",
    "    max=1000,\n",
    "    step=1,\n",
    "    description='Count:',\n",
    "    disabled=False\n",
    ")\n",
    "\n",
    "step_btn = widgets.ToggleButton(\n",
    "    value=False,\n",
    "    description='Step',\n",
    "    disabled=False,\n",
    "    button_style=''\n",
    ")\n",
    "def on_step_btn(current):\n",
    "    current.value = False\n",
    "    global step_count_int\n",
    "    GameField.evolve(fields[b_sldr.value], num_steps=step_count_int.value)\n",
    "        \n",
    "def f(init, b, step):\n",
    "    get_field(b)"
   ]
  },
  {
   "cell_type": "code",
   "execution_count": 7,
   "metadata": {},
   "outputs": [],
   "source": [
    "size=33\n",
    "fields = init(size,np.array([[0],[0]]))\n",
    "\n",
    "def draw(animal,defector=1):    \n",
    "    global draw_animal\n",
    "    draw_animal=animal\n",
    "    \n",
    "    global defect\n",
    "    defect=defector\n",
    "    \n",
    "    init_btn.observe(on_init_btn, names='value')\n",
    "    step_btn.observe(on_step_btn, names='value')\n",
    "    \n",
    "    ui = widgets.HBox([size_int, init_btn, b_sldr, step_count_int, step_btn])\n",
    "    out = widgets.interactive_output(f, {'init': init_btn, 'b': b_sldr, 'step' : step_btn})\n",
    "\n",
    "    display(ui, out)"
   ]
  },
  {
   "cell_type": "markdown",
   "metadata": {},
   "source": [
    "При 1<b<7/6\n",
    "\n",
    "При 7/6<b<6/5\n",
    "\n",
    "При 6/5<b<5/4\n",
    "\n",
    "При 5/4<b<4/3\n",
    "\n",
    "При 4/3<b<7/5\n",
    "\n",
    "При 7/5<b<3/2\n",
    "\n",
    "При 3/2<b<5/3\n",
    "\n",
    "При 5/3<b<7/4\n",
    "\n",
    "При 7/4<b<2\n",
    "\n",
    "При 2<b<7/3\n",
    "\n",
    "При 7/3<b<5/2\n",
    "\n",
    "При 5/2<b<3"
   ]
  },
  {
   "cell_type": "markdown",
   "metadata": {},
   "source": [
    "# дефекторный зверь"
   ]
  },
  {
   "cell_type": "markdown",
   "metadata": {},
   "source": [
    "### 70%, 72*72, 5/4<b<4/3"
   ]
  },
  {
   "cell_type": "markdown",
   "metadata": {},
   "source": [
    "### \"омега\""
   ]
  },
  {
   "cell_type": "code",
   "execution_count": 8,
   "metadata": {},
   "outputs": [],
   "source": [
    "omega=np.array([[0,1,2,3,4,5,6,5,5,5,4,5,8,5,9,6,9,7,8],[4,4,4,4,4,4,4,5,6,7,3,3,3,2,2,1,1,0,0]])+10"
   ]
  },
  {
   "cell_type": "code",
   "execution_count": 9,
   "metadata": {},
   "outputs": [
    {
     "data": {
      "application/vnd.jupyter.widget-view+json": {
       "model_id": "173b27fa2c494e9fb24a56dd6a0ce6a4",
       "version_major": 2,
       "version_minor": 0
      },
      "text/html": [
       "<p>Failed to display Jupyter Widget of type <code>HBox</code>.</p>\n",
       "<p>\n",
       "  If you're reading this message in the Jupyter Notebook or JupyterLab Notebook, it may mean\n",
       "  that the widgets JavaScript is still loading. If this message persists, it\n",
       "  likely means that the widgets JavaScript library is either not installed or\n",
       "  not enabled. See the <a href=\"https://ipywidgets.readthedocs.io/en/stable/user_install.html\">Jupyter\n",
       "  Widgets Documentation</a> for setup instructions.\n",
       "</p>\n",
       "<p>\n",
       "  If you're reading this message in another frontend (for example, a static\n",
       "  rendering on GitHub or <a href=\"https://nbviewer.jupyter.org/\">NBViewer</a>),\n",
       "  it may mean that your frontend doesn't currently support widgets.\n",
       "</p>\n"
      ],
      "text/plain": [
       "HBox(children=(BoundedIntText(value=3, description='Size:', max=1000, min=3, step=3), ToggleButton(value=False, description='Init'), Dropdown(description='b:', options=(1.01, 1.1766666666666667, 1.21, 1.26, 1.3433333333333333, 1.41, 1.51, 1.6766666666666667, 1.76, 2.01, 2.3433333333333333, 2.51), value=1.01), BoundedIntText(value=1, description='Count:', max=1000, min=1), ToggleButton(value=False, description='Step')))"
      ]
     },
     "metadata": {},
     "output_type": "display_data"
    },
    {
     "data": {
      "application/vnd.jupyter.widget-view+json": {
       "model_id": "e14d2aab520e45608b2b547e90d5ade3",
       "version_major": 2,
       "version_minor": 0
      },
      "text/html": [
       "<p>Failed to display Jupyter Widget of type <code>Output</code>.</p>\n",
       "<p>\n",
       "  If you're reading this message in the Jupyter Notebook or JupyterLab Notebook, it may mean\n",
       "  that the widgets JavaScript is still loading. If this message persists, it\n",
       "  likely means that the widgets JavaScript library is either not installed or\n",
       "  not enabled. See the <a href=\"https://ipywidgets.readthedocs.io/en/stable/user_install.html\">Jupyter\n",
       "  Widgets Documentation</a> for setup instructions.\n",
       "</p>\n",
       "<p>\n",
       "  If you're reading this message in another frontend (for example, a static\n",
       "  rendering on GitHub or <a href=\"https://nbviewer.jupyter.org/\">NBViewer</a>),\n",
       "  it may mean that your frontend doesn't currently support widgets.\n",
       "</p>\n"
      ],
      "text/plain": [
       "Output()"
      ]
     },
     "metadata": {},
     "output_type": "display_data"
    }
   ],
   "source": [
    "draw(six_rom,0)"
   ]
  },
  {
   "cell_type": "markdown",
   "metadata": {},
   "source": [
    "При 1<b<7/6 вырождается в 2 точки.\n",
    "\n",
    "При 7/6<b<6/5 точки со сдвигом по фазе превращаются в ромашек.\n",
    "\n",
    "При 6/5<b<5/4 есть две пары стабильных точек. Есть мигающая точка-ромашка.\n",
    "\n",
    "При 5/4<b<4/3 омега сохраняется, мигание тройки дефекторов.\n",
    "\n",
    "При 4/3<b<7/5 омега колеблется с периодом 4.\n",
    "\n",
    "При 7/5<b<3/2 новый зверь колеблется с периодом 2 - гантеля с точкой и линия с ромашкой.\n",
    "\n",
    "При 3/2<b<5/3 новый, другой зверь колеблется с периодом 2 - две точки вместе превращаются в ромашки.\n",
    "\n",
    "При 5/3<b<7/4 новый, другой зверь колеблется с периодом 2 - мигание точки-ромашки.\n",
    "\n",
    "При 7/4<b<2 новый, другой зверь колеблется с периодом 2 - перемещение ромашки.\n",
    "\n",
    "При 2<b<7/3 новый, лругой зверь колеблется с периодом 2 - перемещается точка.\n",
    "\n",
    "При 7/3<b<5/2 зверь разрастается до размеров поля, оставляя \"ромашки\" кооператоров. Если 2 ромашки расположены на расстоянии одного дефектора друг от друга, то все подобные пары колеблются в одной фазе с периодом 2.\n",
    "\n",
    "При 5/2<b<3 зависит от размера. При 72x72 зверь разрастается на всё поле, оставляя 2 стабильных кооператорных треугольника с округлыми концами. В остальных проверенных случаях, в т.ч. при 69 и 75 всё поле дефекторное."
   ]
  },
  {
   "cell_type": "markdown",
   "metadata": {},
   "source": [
    "### тройка дефекторов"
   ]
  },
  {
   "cell_type": "code",
   "execution_count": 21,
   "metadata": {},
   "outputs": [],
   "source": [
    "triplet=np.array([[0,1,0],[0,0,1]])+10"
   ]
  },
  {
   "cell_type": "markdown",
   "metadata": {},
   "source": [
    "При 1<b<7/6 зверь пропадает\n",
    "\n",
    "При 7/6<b<6/5 -//-\n",
    "\n",
    "При 6/5<b<5/4 -//-\n",
    "\n",
    "При 5/4<b<4/3 -//-\n",
    "\n",
    "При 4/3<b<7/5 -//-\n",
    "\n",
    "При 7/5<b<3/2 -//-\n",
    "\n",
    "При 3/2<b<5/3 зверь не меняется, стабилен.\n",
    "\n",
    "При 5/3<b<7/4 -//-\n",
    "\n",
    "При 7/4<b<2 колебания зверей с полным периодом 3.\n",
    "\n",
    "При 2<b<7/3 стабильный треугольник с округлыми концами.\n",
    "\n",
    "При 7/3<b<5/2 зверь разрастается до размеров поля, оставляя \"ромашки\" кооператоров. Если 2 ромашки расположены на расстоянии одного дефектора друг от друга, то все подобные пары колеблются в одной фазе с периодом 2.\n",
    "\n",
    "При 5/2<b<3 зависит от размера. До 144 остаются 1-2 кооператорных зверя, выше - сплошное дефекторное поле."
   ]
  },
  {
   "cell_type": "markdown",
   "metadata": {},
   "source": [
    "### две точки"
   ]
  },
  {
   "cell_type": "code",
   "execution_count": 10,
   "metadata": {},
   "outputs": [],
   "source": [
    "two_dots=np.array([[1,0],[0,3]])+10"
   ]
  },
  {
   "cell_type": "markdown",
   "metadata": {},
   "source": [
    "При 1<b<7/6 зверь стабилен.\n",
    "\n",
    "При 7/6<b<6/5 превращение в ромашки с периодом 2.\n",
    "\n",
    "При 6/5<b<5/4 превращение в ромашки с периодом 2.\n",
    "\n",
    "При 5/4<b<4/3 превращение в ромашки с периодом 2.\n",
    "\n",
    "При 4/3<b<7/5 превращение в ромашки, потом в змейку. Зверь стабилен.\n",
    "\n",
    "При 7/5<b<3/2 чередование ромашки со змейкой с периодом 2.\n",
    "\n",
    "При 3/2<b<5/3 чередование ромашки со змейкой с периодом 2.\n",
    "\n",
    "При 5/3<b<7/4 превращение ромашки в параллелограмм. Зверь стабилен.\n",
    "\n",
    "При 7/4<b<2 чередование ромашки с параллелограммом.\n",
    "\n",
    "При 2<b<7/3 стабильные ромашки.\n",
    "\n",
    "При 7/3<b<5/2 зверь разрастается до размеров поля, оставляя \"ромашки\" кооператоров. Если 2 ромашки расположены на расстоянии одного дефектора друг от друга, то все подобные пары колеблются в одной фазе с периодом 2.\n",
    "\n",
    "При 5/2<b<3 зависит от размера. При 114x114 зверь разрастается на всё поле оставляя 2 стабильных ромашки. В остальных проверенных случаях, в т.ч. при 111 и 117 всё поле дефекторное. "
   ]
  },
  {
   "cell_type": "markdown",
   "metadata": {},
   "source": [
    "### \"ромашка\""
   ]
  },
  {
   "cell_type": "code",
   "execution_count": 8,
   "metadata": {},
   "outputs": [],
   "source": [
    "romashka=np.array([[1,2,0,1,2,0,1],[0,0,1,1,1,2,2]])+10"
   ]
  },
  {
   "cell_type": "markdown",
   "metadata": {},
   "source": [
    "При 1<b<7/6 вырождается в точку.\n",
    "\n",
    "При 7/6<b<6/5 чередование точки и ромашки.\n",
    "\n",
    "При 6/5<b<5/4 -//-\n",
    "\n",
    "При 5/4<b<4/3 -//-\n",
    "\n",
    "При 4/3<b<7/5 -//-\n",
    "\n",
    "При 7/5<b<3/2 -//-\n",
    "\n",
    "При 3/2<b<5/3 -//-\n",
    "\n",
    "При 5/3<b<7/4 -//-\n",
    "\n",
    "При 7/4<b<2 -//-\n",
    "\n",
    "При 2<b<7/3 стабильная ромашка.\n",
    "\n",
    "При 7/3<b<5/2 зверь разрастается до размеров поля, оставляя \"ромашки\" кооператоров. Если 2 ромашки расположены на расстоянии одного дефектора друг от друга, то все подобные пары колеблются в одной фазе с периодом 2.\n",
    "\n",
    "При 5/2<b<3 зависит от размера. При 69x69 и 72x72 зверь разрастается на всё поле, оставляя 2 стабильных кооператорных треугольника с округлыми концами. В остальных проверенных случаях, в т.ч. при 66 и 75 всё поле дефекторное."
   ]
  },
  {
   "cell_type": "markdown",
   "metadata": {},
   "source": [
    "# кооператорный зверь"
   ]
  },
  {
   "cell_type": "markdown",
   "metadata": {},
   "source": [
    "### 70%, 72*72, 7/3<b<3"
   ]
  },
  {
   "cell_type": "markdown",
   "metadata": {},
   "source": [
    "### \"треугольник с округлыми концами\""
   ]
  },
  {
   "cell_type": "code",
   "execution_count": 8,
   "metadata": {},
   "outputs": [],
   "source": [
    "triangle=np.array([[0,1,0,1,2,0,1,2,3,0,1,2,3,4,1,2,3,4],[4,4,3,3,3,2,2,2,2,1,1,1,1,1,0,0,0,0]])+10"
   ]
  },
  {
   "cell_type": "markdown",
   "metadata": {},
   "source": [
    "При 1<b<7/6 зверь разрастается на всё поле.\n",
    "\n",
    "При 7/6<b<6/5 -//-\n",
    "\n",
    "При 6/5<b<5/4 -//-\n",
    "\n",
    "При 5/4<b<4/3 зверь разрастается на всё поле оставляя \"Y\"-образную линию точек дефекторов, которые мигают с ромашками с периодом 2.\n",
    "\n",
    "При 4/3<b<7/5 оставляет три точки сверху-справа, которые мигают с ромашками с периодом 2.\n",
    "\n",
    "При 7/5<b<3/2 -//-\n",
    "\n",
    "При 3/2<b<5/3 \"Y\"-образная стабильная линия четвёрок-дефекторов\n",
    "\n",
    "При 5/3<b<7/4 -//-\n",
    " \n",
    "При 7/4<b<2 ещё более плотная \"Y\"-образная линия дефекторов, полный период колебания - 3.\n",
    "\n",
    "При 2<b<7/3 стал шестиконечной звездой и остался ей.\n",
    "\n",
    "При 7/3<b<5/2 периодически превращается в разных зверей. Полный период - 6.\n",
    "\n",
    "При 5/2<b<3 - зверь не меняется, стабилен."
   ]
  },
  {
   "cell_type": "markdown",
   "metadata": {},
   "source": [
    "### Шесть ромашек - результат одной ромашки при 7/3<b<5/2"
   ]
  },
  {
   "cell_type": "code",
   "execution_count": 8,
   "metadata": {},
   "outputs": [],
   "source": [
    "#Слева против часовой\n",
    "romashka1=np.array([[1,2,0,1,2,0,1],[0,0,1,1,1,2,2]])+10\n",
    "romashka2=romashka1+np.array([[6],[-3]])\n",
    "romashka3=romashka1+np.array([[9],[0]])\n",
    "romashka4=romashka3+np.array([[-3],[6]])\n",
    "romashka6=romashka1+np.array([[-3],[6]])\n",
    "romashka5=romashka6+np.array([[3],[3]])\n",
    "\n",
    "st1=np.hstack((romashka1,romashka2))\n",
    "st2=np.hstack((st1,romashka3))\n",
    "st3=np.hstack((st2,romashka4))\n",
    "st4=np.hstack((st3,romashka5))\n",
    "six_rom=np.hstack((st4,romashka6))"
   ]
  },
  {
   "cell_type": "markdown",
   "metadata": {},
   "source": [
    "При 1<b<7/6 исчезает, оставляя \"X\"-образную прерывистую линию единичек-дефекторов.\n",
    "\n",
    "При 7/6<b<6/5 единички этой линии мигают с ромашками со сдвигом по фазе (нижний дефектор отдельно от остальных). Полный период - 2. \n",
    "\n",
    "При 6/5<b<5/4 линии дефекторов (промежуток между дефекторами сузился) пересекаются в звезду, которая расположена в том самом нижнем дефекторе). В центре свободных участков чередование единичек дефекторов с ромашками.\n",
    "\n",
    "При 5/4<b<4/3 линии звезды сплошные. Мигание центра звезды с \"Y\"-образной линией (по форме похожа на ту, что была при \"треугольнике с округлыми концами\") со свдигом по фазе. Период - 2.\n",
    "\n",
    "При 4/3<b<7/5 центр звезды всё так же мигает с периодом 2. От \"Y\"-образной линии остались точки в узлах. Колеблются в противофазе со звездой.\n",
    "\n",
    "При 7/5<b<3/2 -//-\n",
    "\n",
    "При 3/2<b<5/3 снова вернулась \"Y\"-образная линия. Её центры колеблются со свдигом фазы с центром звезды.\n",
    "\n",
    "При 5/3<b<7/4 -//-\n",
    "\n",
    "При 7/4<b<2 звезда и Y колеблются с периодом 3.\n",
    "\n",
    "При 2<b<7/3 начальный зверь стабилен.\n",
    "\n",
    "При 7/3<b<5/2 -//-\n",
    "\n",
    "При 5/2<b<3 -//-"
   ]
  }
 ],
 "metadata": {
  "kernelspec": {
   "display_name": "Python 3",
   "language": "python",
   "name": "python3"
  },
  "language_info": {
   "codemirror_mode": {
    "name": "ipython",
    "version": 3
   },
   "file_extension": ".py",
   "mimetype": "text/x-python",
   "name": "python",
   "nbconvert_exporter": "python",
   "pygments_lexer": "ipython3",
   "version": "3.6.4"
  }
 },
 "nbformat": 4,
 "nbformat_minor": 2
}
