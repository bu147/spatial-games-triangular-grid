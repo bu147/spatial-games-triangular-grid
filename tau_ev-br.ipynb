{
 "cells": [
  {
   "cell_type": "code",
   "execution_count": 1,
   "metadata": {},
   "outputs": [],
   "source": [
    "from Assemblies.game import GameField\n",
    "import numpy as np\n",
    "\n",
    "from fractions import Fraction\n",
    "\n",
    "%matplotlib notebook\n",
    "import matplotlib.pyplot as plt\n",
    "import matplotlib.animation as animation\n",
    "\n",
    "np.set_printoptions(precision=3)"
   ]
  },
  {
   "cell_type": "code",
   "execution_count": 2,
   "metadata": {},
   "outputs": [],
   "source": [
    "def string_field(field):\n",
    "    \"\"\"Poor-man's viz of the game field.\"\"\"\n",
    "    s_rows = [\"\".join(str(row)[1:-1].split()) for row in field]\n",
    "    return \"\\n\".join(s_rows)"
   ]
  },
  {
   "cell_type": "code",
   "execution_count": 3,
   "metadata": {},
   "outputs": [
    {
     "data": {
      "text/plain": [
       "[Fraction(7, 6),\n",
       " Fraction(6, 5),\n",
       " Fraction(5, 4),\n",
       " Fraction(4, 3),\n",
       " Fraction(7, 5),\n",
       " Fraction(3, 2),\n",
       " Fraction(5, 3),\n",
       " Fraction(7, 4),\n",
       " Fraction(2, 1),\n",
       " Fraction(7, 3),\n",
       " Fraction(5, 2)]"
      ]
     },
     "execution_count": 3,
     "metadata": {},
     "output_type": "execute_result"
    }
   ],
   "source": [
    "\"\"\"Candidate fractions (num & den <= 7).\"\"\"\n",
    "all_fracs = set()\n",
    "for den in range(1, 7+1):\n",
    "    for num in range(1, 7+1):\n",
    "        all_fracs.add(Fraction(num, den))\n",
    "fracs = [f for f in all_fracs if 1 < f < 3]\n",
    "fracs = sorted(list(fracs))\n",
    "fracs"
   ]
  },
  {
   "cell_type": "code",
   "execution_count": 4,
   "metadata": {},
   "outputs": [
    {
     "data": {
      "text/plain": [
       "[Fraction(9, 8),\n",
       " Fraction(8, 7),\n",
       " Fraction(7, 6),\n",
       " Fraction(6, 5),\n",
       " Fraction(5, 4),\n",
       " Fraction(9, 7),\n",
       " Fraction(4, 3),\n",
       " Fraction(7, 5),\n",
       " Fraction(3, 2),\n",
       " Fraction(8, 5),\n",
       " Fraction(5, 3),\n",
       " Fraction(7, 4),\n",
       " Fraction(9, 5),\n",
       " Fraction(2, 1),\n",
       " Fraction(9, 4),\n",
       " Fraction(7, 3),\n",
       " Fraction(5, 2),\n",
       " Fraction(8, 3)]"
      ]
     },
     "execution_count": 4,
     "metadata": {},
     "output_type": "execute_result"
    }
   ],
   "source": [
    "\"\"\"Candidate fractions (num & den <= 9).\"\"\"\n",
    "all_fracsQ = set()\n",
    "for den in range(1, 9+1):\n",
    "    for num in range(1, 9+1):\n",
    "        all_fracsQ.add(Fraction(num, den))\n",
    "fracsQ = [f for f in all_fracsQ if 1 < f < 3]\n",
    "fracsQ = sorted(list(fracsQ))\n",
    "fracsQ"
   ]
  },
  {
   "cell_type": "code",
   "execution_count": 5,
   "metadata": {},
   "outputs": [],
   "source": [
    "# init\n",
    "L = 30\n",
    "fraction_D = 0.1"
   ]
  },
  {
   "cell_type": "code",
   "execution_count": 6,
   "metadata": {},
   "outputs": [],
   "source": [
    "def switch_time(b, num_steps=1000, num_therm=1000, seed=12388):\n",
    "\n",
    "    rndm = np.random.RandomState(seed)\n",
    "\n",
    "    # Init the field\n",
    "    instance = (rndm.uniform(size=(L, L)) < fraction_D).astype(int)\n",
    "    game = GameField(L, b)\n",
    "    game.field = instance\n",
    "\n",
    "    # burn-in\n",
    "    evolve = game.evolve\n",
    "    evolve(num_therm)\n",
    "\n",
    "    snapshots = np.zeros((L, L, num_steps), dtype=int)\n",
    "    snapshots[:, :, 0] = game.field\n",
    "\n",
    "    for step in range(num_steps):\n",
    "        evolve(1)\n",
    "        snapshots[:, :, step] = game.field\n",
    "\n",
    "    # compute the switch times\n",
    "    switches = np.zeros_like(snapshots[:, :, 0], dtype=int)\n",
    "\n",
    "    for i in range(snapshots.shape[0]):\n",
    "        for j in range(snapshots.shape[1]):\n",
    "            s = snapshots[i, j, :]\n",
    "            idx, = (s[1:] - s[:-1]).nonzero()\n",
    "            switches[i, j] = idx.size + 1\n",
    "\n",
    "    return np.mean(num_steps / switches), switches"
   ]
  },
  {
   "cell_type": "code",
   "execution_count": 7,
   "metadata": {},
   "outputs": [],
   "source": [
    "def compute_times(fracs, num_steps=1000, num_therm=1000, seed=12388):\n",
    "    mean_tau = dict()\n",
    "    for frac in fracs:\n",
    "        b = frac + 1e-3\n",
    "        mean_tau[frac], _ = switch_time(b, num_steps, num_therm, seed)\n",
    "        print(frac, mean_tau[frac])\n",
    "    return mean_tau"
   ]
  },
  {
   "cell_type": "code",
   "execution_count": 8,
   "metadata": {},
   "outputs": [],
   "source": [
    "def compute_times_and_volumes(fracs, num_steps=1000, num_therm=1000, seed=12388):\n",
    "    mean_tau, num_swingers, tau_swingers = dict(), dict(), dict()\n",
    "    for frac in fracs:\n",
    "        b = frac + 1e-3\n",
    "        mean_tau[frac], switches = switch_time(b, num_steps, num_therm, seed)\n",
    "        \n",
    "        swingers = switches > 1\n",
    "        num_swingers[frac] = np.count_nonzero(swingers)\n",
    "        tau_swingers[frac] = np.mean(num_steps / switches[swingers])\n",
    "        print(frac, mean_tau[frac], ' - ', num_swingers[frac], ' - ', tau_swingers[frac])\n",
    "    return mean_tau, num_swingers, tau_swingers\n",
    "\n",
    "#print(\"============ T: \")\n",
    "#tauT, num_swingersT, tau_swingersT = compute_times_and_volumes(fracs, num_steps=int(2e4))\n",
    "#print(\"============ Q: \")\n",
    "#tauQ, num_swingersQ, tau_swingersQ = compute_times_and_volumes(fracsQ, game_type=\"Q\", num_steps=int(2e4))"
   ]
  },
  {
   "cell_type": "code",
   "execution_count": 9,
   "metadata": {},
   "outputs": [
    {
     "name": "stdout",
     "output_type": "stream",
     "text": [
      "========== seed =  11\n",
      "7/6 8200.18  -  162  -  1.0\n",
      "6/5 9144.53  -  77  -  1.0\n",
      "5/4 8977.88  -  92  -  1.0\n",
      "4/3 9866.68  -  12  -  1.0\n",
      "7/5 8300.17444377781  -  153  -  1.0261398694771144\n",
      "3/2 9288.9666653336  -  64  -  1.09373125374925\n",
      "5/3 9366.771658085661  -  57  -  1.6577592472881677\n",
      "7/4 6361.302207970181  -  348  -  589.5746757849531\n",
      "2 9611.16222038898  -  35  -  1.3142385737855966\n"
     ]
    },
    {
     "name": "stderr",
     "output_type": "stream",
     "text": [
      "C:\\Users\\Admin\\Anaconda3\\lib\\site-packages\\numpy\\core\\fromnumeric.py:2957: RuntimeWarning: Mean of empty slice.\n",
      "  out=out, **kwargs)\n",
      "C:\\Users\\Admin\\Anaconda3\\lib\\site-packages\\numpy\\core\\_methods.py:80: RuntimeWarning: invalid value encountered in double_scalars\n",
      "  ret = ret.dtype.type(ret / rcount)\n"
     ]
    },
    {
     "name": "stdout",
     "output_type": "stream",
     "text": [
      "7/3 10000.0  -  0  -  nan\n",
      "5/2 10000.0  -  0  -  nan\n"
     ]
    }
   ],
   "source": [
    "num_seeds = 3\n",
    "\n",
    "tauT_all, num_swT_all, tau_swT_all = [], [], []\n",
    "tauQ_all, num_swQ_all, tau_swQ_all = [], [], []\n",
    "\n",
    "for seed in [11]: #, 12388, 123]:\n",
    "    print(\"========== seed = \", seed)\n",
    "    tauT, num_swingersT, tau_swingersT = compute_times_and_volumes(fracs, num_steps=int(10000))\n",
    "    tauT_all.append(tauT)\n",
    "    num_swT_all.append(num_swingersT)\n",
    "    tau_swT_all.append(tau_swingersT)"
   ]
  },
  {
   "cell_type": "code",
   "execution_count": 10,
   "metadata": {},
   "outputs": [
    {
     "name": "stdout",
     "output_type": "stream",
     "text": [
      "========== seed =  11\n",
      "7/6 8200.18  -  162  -  1.0\n",
      "6/5 9144.53  -  77  -  1.0\n",
      "5/4 8977.88  -  92  -  1.0\n",
      "4/3 9866.68  -  12  -  1.0\n",
      "7/5 8300.17444377781  -  153  -  1.0261398694771144\n",
      "3/2 9288.9666653336  -  64  -  1.09373125374925\n",
      "5/3 9366.77165708636  -  57  -  1.6577434688609607\n",
      "7/4 9911.12  -  8  -  1.0\n",
      "2 9611.16222038898  -  35  -  1.3142385737855966\n"
     ]
    },
    {
     "name": "stderr",
     "output_type": "stream",
     "text": [
      "C:\\Users\\Admin\\Anaconda3\\lib\\site-packages\\numpy\\core\\fromnumeric.py:2957: RuntimeWarning: Mean of empty slice.\n",
      "  out=out, **kwargs)\n",
      "C:\\Users\\Admin\\Anaconda3\\lib\\site-packages\\numpy\\core\\_methods.py:80: RuntimeWarning: invalid value encountered in double_scalars\n",
      "  ret = ret.dtype.type(ret / rcount)\n"
     ]
    },
    {
     "name": "stdout",
     "output_type": "stream",
     "text": [
      "7/3 10000.0  -  0  -  nan\n",
      "5/2 10000.0  -  0  -  nan\n"
     ]
    }
   ],
   "source": [
    "num_seeds = 3\n",
    "\n",
    "tauT_all, num_swT_all, tau_swT_all = [], [], []\n",
    "tauQ_all, num_swQ_all, tau_swQ_all = [], [], []\n",
    "\n",
    "for seed in [11]: #, 12388, 123]:\n",
    "    print(\"========== seed = \", seed)\n",
    "    tauT, num_swingersT, tau_swingersT = compute_times_and_volumes(fracs, num_steps=int(10000),num_therm=int(5000))\n",
    "    tauT_all.append(tauT)\n",
    "    num_swT_all.append(num_swingersT)\n",
    "    tau_swT_all.append(tau_swingersT)"
   ]
  },
  {
   "cell_type": "code",
   "execution_count": null,
   "metadata": {},
   "outputs": [],
   "source": []
  }
 ],
 "metadata": {
  "kernelspec": {
   "display_name": "Python 3",
   "language": "python",
   "name": "python3"
  },
  "language_info": {
   "codemirror_mode": {
    "name": "ipython",
    "version": 3
   },
   "file_extension": ".py",
   "mimetype": "text/x-python",
   "name": "python",
   "nbconvert_exporter": "python",
   "pygments_lexer": "ipython3",
   "version": "3.6.4"
  }
 },
 "nbformat": 4,
 "nbformat_minor": 2
}
